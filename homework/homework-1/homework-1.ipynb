{
 "cells": [
  {
   "cell_type": "code",
   "execution_count": 1,
   "metadata": {},
   "outputs": [],
   "source": [
    "import pandas as pd\n",
    "from sklearn.feature_extraction import DictVectorizer\n",
    "from sklearn.linear_model import LinearRegression\n",
    "from sklearn.metrics import root_mean_squared_error"
   ]
  },
  {
   "cell_type": "code",
   "execution_count": 2,
   "metadata": {},
   "outputs": [
    {
     "name": "stdout",
     "output_type": "stream",
     "text": [
      "Number of columns in January 2023 Yellow Taxi trip records = 19\n"
     ]
    }
   ],
   "source": [
    "# read data\n",
    "train = pd.read_parquet(\"data/yellow_tripdata_2023-01.parquet\")\n",
    "valid = pd.read_parquet(\"data/yellow_tripdata_2023-02.parquet\")\n",
    "\n",
    "# number of columns in January 2023\n",
    "print(\n",
    "    f\"Number of columns in January 2023 Yellow Taxi trip records = {len(train.columns)}\"\n",
    ")"
   ]
  },
  {
   "cell_type": "code",
   "execution_count": 3,
   "metadata": {},
   "outputs": [
    {
     "name": "stdout",
     "output_type": "stream",
     "text": [
      "The standard deviation of the trip duration (minutes) in January 2023 = 42.59\n"
     ]
    }
   ],
   "source": [
    "# compute trip duration\n",
    "train[\"duration\"] = train[\"tpep_dropoff_datetime\"] - train[\"tpep_pickup_datetime\"]\n",
    "train[\"duration\"] = train[\"duration\"].apply(lambda td: td.total_seconds() / 60)\n",
    "\n",
    "# standard deviation of the trips duration in January 2023\n",
    "duration_std = round(train[\"duration\"].std(), 2)\n",
    "print(\n",
    "    f\"The standard deviation of the trip duration (minutes) in January 2023 = {duration_std}\"\n",
    ")"
   ]
  },
  {
   "cell_type": "code",
   "execution_count": 4,
   "metadata": {},
   "outputs": [
    {
     "name": "stdout",
     "output_type": "stream",
     "text": [
      "The fraction of the records left after dropping the outliers = 98%\n"
     ]
    }
   ],
   "source": [
    "# remove outliers and keep only the records where the duration was between 1 and 60 minutes (inclusive)\n",
    "train_wo_outliers = train[(train[\"duration\"] >= 1) & (train[\"duration\"] <= 60)]\n",
    "\n",
    "# fraction of the records left after dropping the outliers\n",
    "fraction = round(len(train_wo_outliers) * 100 / len(train))\n",
    "print(f\"The fraction of the records left after dropping the outliers = {fraction}%\")"
   ]
  },
  {
   "cell_type": "code",
   "execution_count": 5,
   "metadata": {},
   "outputs": [
    {
     "name": "stderr",
     "output_type": "stream",
     "text": [
      "C:\\Users\\rebek\\AppData\\Local\\Temp\\ipykernel_21480\\945047277.py:3: SettingWithCopyWarning: \n",
      "A value is trying to be set on a copy of a slice from a DataFrame.\n",
      "Try using .loc[row_indexer,col_indexer] = value instead\n",
      "\n",
      "See the caveats in the documentation: https://pandas.pydata.org/pandas-docs/stable/user_guide/indexing.html#returning-a-view-versus-a-copy\n",
      "  train_wo_outliers[categorical] = train_wo_outliers[categorical].astype(str)\n"
     ]
    },
    {
     "name": "stdout",
     "output_type": "stream",
     "text": [
      "Number of columns in the feature matrix = 515\n"
     ]
    }
   ],
   "source": [
    "# apply one-hot encoding to the pickup and dropoff location IDs\n",
    "categorical = [\"PULocationID\", \"DOLocationID\"]\n",
    "train_wo_outliers[categorical] = train_wo_outliers[categorical].astype(str)\n",
    "train_dicts = train_wo_outliers[categorical].to_dict(orient=\"records\")\n",
    "dv = DictVectorizer()\n",
    "X_train = dv.fit_transform(train_dicts)\n",
    "\n",
    "# number of columns in the feature matrix\n",
    "print(f\"Number of columns in the feature matrix = {X_train.shape[1]}\")"
   ]
  },
  {
   "cell_type": "code",
   "execution_count": 6,
   "metadata": {},
   "outputs": [
    {
     "name": "stdout",
     "output_type": "stream",
     "text": [
      "RMSE on train data = 7.65\n"
     ]
    }
   ],
   "source": [
    "# train a linear regression model with default parameters\n",
    "target = \"duration\"\n",
    "y_train = train_wo_outliers[target].values\n",
    "\n",
    "lr = LinearRegression()\n",
    "lr.fit(X_train, y_train)\n",
    "\n",
    "# calculate the RMSE of the model on the training data\n",
    "train_rmse = round(root_mean_squared_error(y_train, lr.predict(X_train)), 2)\n",
    "print(f\"RMSE on train data = {train_rmse}\")"
   ]
  },
  {
   "cell_type": "code",
   "execution_count": 7,
   "metadata": {},
   "outputs": [
    {
     "name": "stdout",
     "output_type": "stream",
     "text": [
      "Number of columns in the feature matrix = 515\n",
      "RMSE on validation data = 7.81\n"
     ]
    }
   ],
   "source": [
    "# apply model to validation data\n",
    "valid[\"duration\"] = valid[\"tpep_dropoff_datetime\"] - valid[\"tpep_pickup_datetime\"]\n",
    "valid[\"duration\"] = valid[\"duration\"].apply(lambda td: td.total_seconds() / 60)\n",
    "valid = valid[(valid[\"duration\"] >= 1) & (valid[\"duration\"] <= 60)]\n",
    "valid[categorical] = valid[categorical].astype(str)\n",
    "valid_dicts = valid[categorical].to_dict(orient=\"records\")\n",
    "X_valid = dv.transform(valid_dicts)\n",
    "y_valid = valid[target].values\n",
    "print(f\"Number of columns in the feature matrix = {X_valid.shape[1]}\")\n",
    "\n",
    "# calculate the RMSE of the model on the validation data\n",
    "valid_rmse = round(root_mean_squared_error(y_valid, lr.predict(X_valid)), 2)\n",
    "print(f\"RMSE on validation data = {valid_rmse}\")"
   ]
  }
 ],
 "metadata": {
  "kernelspec": {
   "display_name": "machine-learning-ops-zoomcamp-yuDfY6b0",
   "language": "python",
   "name": "python3"
  },
  "language_info": {
   "codemirror_mode": {
    "name": "ipython",
    "version": 3
   },
   "file_extension": ".py",
   "mimetype": "text/x-python",
   "name": "python",
   "nbconvert_exporter": "python",
   "pygments_lexer": "ipython3",
   "version": "3.12.0"
  }
 },
 "nbformat": 4,
 "nbformat_minor": 2
}
